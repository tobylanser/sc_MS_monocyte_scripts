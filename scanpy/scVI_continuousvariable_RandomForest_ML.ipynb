{
 "cells": [
  {
   "cell_type": "code",
   "execution_count": 1,
   "id": "1458362b",
   "metadata": {},
   "outputs": [
    {
     "name": "stderr",
     "output_type": "stream",
     "text": [
      "/home/tlanser/miniconda3/envs/scVI/lib/python3.10/site-packages/scvi/_settings.py:63: UserWarning: Since v1.0.0, scvi-tools no longer uses a random seed by default. Run `scvi.settings.seed = 0` to reproduce results from previous versions.\n",
      "  self.seed = seed\n",
      "/home/tlanser/miniconda3/envs/scVI/lib/python3.10/site-packages/scvi/_settings.py:70: UserWarning: Setting `dl_pin_memory_gpu_training` is deprecated in v1.0 and will be removed in v1.1. Please pass in `pin_memory` to the data loaders instead.\n",
      "  self.dl_pin_memory_gpu_training = (\n",
      "/home/tlanser/miniconda3/envs/scVI/lib/python3.10/site-packages/tqdm/auto.py:21: TqdmWarning: IProgress not found. Please update jupyter and ipywidgets. See https://ipywidgets.readthedocs.io/en/stable/user_install.html\n",
      "  from .autonotebook import tqdm as notebook_tqdm\n"
     ]
    }
   ],
   "source": [
    "import pandas as pd\n",
    "import scanpy as sc\n",
    "from sklearn.ensemble import RandomForestClassifier\n",
    "from sklearn import metrics\n",
    "import random\n",
    "from scvi.model import SCVI"
   ]
  },
  {
   "cell_type": "code",
   "execution_count": 2,
   "id": "0decdff6",
   "metadata": {},
   "outputs": [],
   "source": [
    "import scvi\n",
    "import scanpy as sc\n",
    "\n",
    "from matplotlib.pyplot import rc_context\n",
    "sc.set_figure_params(dpi=100)"
   ]
  },
  {
   "cell_type": "code",
   "execution_count": 3,
   "id": "3c7da476",
   "metadata": {},
   "outputs": [],
   "source": [
    "adata = sc.read_h5ad('../../h5ad/h5seurat_myeloid_BP2_unintegrated_annotated2.h5ad') #raw data"
   ]
  },
  {
   "cell_type": "code",
   "execution_count": 9,
   "id": "5a87477f",
   "metadata": {},
   "outputs": [
    {
     "data": {
      "text/plain": [
       "GEM1_AAACCCAAGACCGCCT-1             HC\n",
       "GEM1_AAACCCAAGAGTGGCT-1             HC\n",
       "GEM1_AAACCCAAGTATCCTG-1             HC\n",
       "GEM1_AAACCCAAGTGAGGTC-1             HC\n",
       "GEM1_AAACCCACAACGCATT-1             HC\n",
       "                               ...    \n",
       "GEM30_TTTGGTTTCACCCTTG-1    progressor\n",
       "GEM30_TTTGGTTTCCGATTAG-1    progressor\n",
       "GEM30_TTTGGTTTCGTTCAGA-1    progressor\n",
       "GEM30_TTTGTTGAGCTCTTCC-1    progressor\n",
       "GEM30_TTTGTTGTCCGGTAGC-1    progressor\n",
       "Name: prog, Length: 382320, dtype: object"
      ]
     },
     "execution_count": 9,
     "metadata": {},
     "output_type": "execute_result"
    }
   ],
   "source": [
    "adata.obs['prog']"
   ]
  },
  {
   "cell_type": "code",
   "execution_count": null,
   "id": "f8e0761d",
   "metadata": {},
   "outputs": [],
   "source": [
    "# Annotate your AnnData object\n",
    "adata.obs['BMI'] = bmi_values  # Continuous variable\n",
    "adata.obs['disease_state'] = disease_states  # Categorical variable\n",
    "\n",
    "# Train scVI\n",
    "scvi_model = SCVI(adata)\n",
    "scvi_model.train()\n",
    "\n",
    "# Extract latent embeddings\n",
    "latent_features = scvi_model.get_latent_representation()"
   ]
  },
  {
   "cell_type": "code",
   "execution_count": null,
   "id": "12b3e51d",
   "metadata": {},
   "outputs": [],
   "source": [
    "# Annotate your AnnData object\n",
    "adata.obs['BMI'] = bmi_values  # Continuous variable\n",
    "adata.obs['disease_state'] = disease_states  # Categorical variable\n",
    "\n",
    "# Train scVI\n",
    "scvi_model = SCVI(adata)\n",
    "scvi_model.train()\n",
    "\n",
    "# Extract latent embeddings\n",
    "latent_features = scvi_model.get_latent_representation()"
   ]
  },
  {
   "cell_type": "code",
   "execution_count": null,
   "id": "e375269f",
   "metadata": {},
   "outputs": [],
   "source": [
    "from sklearn.ensemble import RandomForestRegressor\n",
    "from sklearn.model_selection import train_test_split\n",
    "from sklearn.metrics import mean_squared_error\n",
    "\n",
    "# Split data by disease state\n",
    "for state in ['healthy', 'RRMS', 'progressors']:\n",
    "    subset = adata[adata.obs['disease_state'] == state]\n",
    "    latent = scvi_model.get_latent_representation(subset)\n",
    "    bmi = subset.obs['BMI']\n",
    "\n",
    "    # Train/test split\n",
    "    X_train, X_test, y_train, y_test = train_test_split(latent, bmi, test_size=0.2, random_state=42)\n",
    "\n",
    "    # Train random forest regressor\n",
    "    rf = RandomForestRegressor(n_estimators=100, random_state=42)\n",
    "    rf.fit(X_train, y_train)\n",
    "\n",
    "    # Feature importance\n",
    "    importance = rf.feature_importances_\n",
    "\n",
    "    # Evaluate\n",
    "    predictions = rf.predict(X_test)\n",
    "    mse = mean_squared_error(y_test, predictions)\n",
    "    print(f\"{state} MSE: {mse}\")\n",
    "    print(f\"Top features for {state}: {importance.argsort()[-10:]}\")\n"
   ]
  }
 ],
 "metadata": {
  "kernelspec": {
   "display_name": "scVI",
   "language": "python",
   "name": "python3"
  },
  "language_info": {
   "codemirror_mode": {
    "name": "ipython",
    "version": 3
   },
   "file_extension": ".py",
   "mimetype": "text/x-python",
   "name": "python",
   "nbconvert_exporter": "python",
   "pygments_lexer": "ipython3",
   "version": "3.10.12"
  }
 },
 "nbformat": 4,
 "nbformat_minor": 5
}
